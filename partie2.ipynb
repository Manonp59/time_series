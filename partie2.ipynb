{
 "cells": [
  {
   "attachments": {},
   "cell_type": "markdown",
   "metadata": {},
   "source": [
    "# Modèlisation des séries temporelles"
   ]
  },
  {
   "cell_type": "markdown",
   "metadata": {},
   "source": [
    "Les modèles en séries temporelles sont des régressions linéaires, on cherche des poids d'explication linéaire pour chaque composante. Le modèle le plus classique AR fait ça. Or, les variables explicatives ne peuvent pas être exogènes, car elles sont futures et on ne les connait pas. On ne peut pas expliquer une variable future, les variables explicatives sont futures aussi, on ne les connait pas. Donc on ne peut pas prédire en fonction d'autres variables. On va chercher à prédire une variable en fonction de ses états passés. C'est le principe des modèles AR = prédire quelque chose en fonction de ses états passés. "
   ]
  },
  {
   "cell_type": "markdown",
   "metadata": {},
   "source": [
    "Stationnarité : nécessaire dans la régression linéaire car absence de corrélation entre les variables explicatives, donc ici il ne faut pas de corrélation entre les temps passés de la variable. Or, quand on a une tendance, c'est le cas. y-1 dépend de y-2, qui dépend de y-3 etc.  \n",
    "Dans la régression linéaire, on cherche à identifier des micro paternes, qui peuvent être masqués par la trend et la saisonnalité. C'est pour ça qu'on cherche à les retirer au départ. Ensuite pour nos prédictions on aura la trend, la saisonnalité et les paterns. "
   ]
  },
  {
   "cell_type": "markdown",
   "metadata": {},
   "source": [
    "ARMA : identifie le micropattern et fait le forecast  \n",
    "ARIMA : enleve le trend, identifie micropatterne, remet le trend, et fait le forecast  \n",
    "SARIMA : enleve la saisonnalité, enleve le trend, identifie le micropattern, remet la saisonnalité, remet le trend, fait le forecast"
   ]
  }
 ],
 "metadata": {
  "language_info": {
   "name": "python"
  },
  "orig_nbformat": 4
 },
 "nbformat": 4,
 "nbformat_minor": 2
}
